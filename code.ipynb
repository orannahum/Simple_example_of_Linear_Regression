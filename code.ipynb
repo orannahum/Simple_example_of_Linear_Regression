{
  "nbformat": 4,
  "nbformat_minor": 0,
  "metadata": {
    "colab": {
      "name": "code.ipynb",
      "provenance": [],
      "authorship_tag": "ABX9TyN45X50PW2v90H6XMc6hHsU",
      "include_colab_link": true
    },
    "kernelspec": {
      "name": "python3",
      "display_name": "Python 3"
    },
    "language_info": {
      "name": "python"
    }
  },
  "cells": [
    {
      "cell_type": "markdown",
      "metadata": {
        "id": "view-in-github",
        "colab_type": "text"
      },
      "source": [
        "<a href=\"https://colab.research.google.com/github/orannahum/Simple_example_of_Linear_Regression/blob/main/code.ipynb\" target=\"_parent\"><img src=\"https://colab.research.google.com/assets/colab-badge.svg\" alt=\"Open In Colab\"/></a>"
      ]
    },
    {
      "cell_type": "code",
      "metadata": {
        "colab": {
          "base_uri": "https://localhost:8080/",
          "height": 279
        },
        "id": "IpmB5WxvtCuX",
        "outputId": "11b73b0b-1e0b-405f-e6d7-384dd36856f6"
      },
      "source": [
        "\n",
        "# imports\n",
        "import numpy as np\n",
        "import matplotlib.pyplot as plt\n",
        "\n",
        "# generate random data-set\n",
        "np.random.seed(0)\n",
        "x = np.random.rand(100, 1)\n",
        "y = 20 + 30 * x + 5 * np.random.rand(100, 1)\n",
        "\n",
        "# plot\n",
        "plt.scatter(x,y,s=10)\n",
        "plt.xlabel('x')\n",
        "plt.ylabel('y')\n",
        "plt.show()"
      ],
      "execution_count": 43,
      "outputs": [
        {
          "output_type": "display_data",
          "data": {
            "image/png": "[encoded data removed]",
            "text/plain": [
              "<Figure size 432x288 with 1 Axes>"
            ]
          },
          "metadata": {
            "needs_background": "light"
          }
        }
      ]
    },
    {
      "cell_type": "code",
      "metadata": {
        "id": "agEu0vXrR69u"
      },
      "source": [
        "from sklearn.linear_model import LinearRegression\n",
        "\n",
        "linearg=LinearRegression()\n",
        "x=x.reshape(-1,1)\n",
        "linearg.fit(x,y)\n",
        "y_predict=linearg.predict(x)"
      ],
      "execution_count": 44,
      "outputs": []
    },
    {
      "cell_type": "code",
      "metadata": {
        "colab": {
          "base_uri": "https://localhost:8080/",
          "height": 279
        },
        "id": "MW6rAKVJTHfd",
        "outputId": "f7e9f60c-a5e3-414a-e3f4-238a9aee1251"
      },
      "source": [
        "plt.scatter(x,y,s=10)\n",
        "plt.plot(x,y_predict,color='red')\n",
        "plt.xlabel('x')\n",
        "plt.ylabel('y')\n",
        "plt.show()"
      ],
      "execution_count": 47,
      "outputs": [
        {
          "output_type": "display_data",
          "data": {
            "image/png": "[encoded data removed]",
            "text/plain": [
              "<Figure size 432x288 with 1 Axes>"
            ]
          },
          "metadata": {
            "needs_background": "light"
          }
        }
      ]
    },
    {
      "cell_type": "code",
      "metadata": {
        "colab": {
          "base_uri": "https://localhost:8080/"
        },
        "id": "-eVlIkOmTx3e",
        "outputId": "8eae836f-c11a-47f8-ca41-aa6689ede9c7"
      },
      "source": [
        "print(linearg.coef_)"
      ],
      "execution_count": 46,
      "outputs": [
        {
          "output_type": "stream",
          "name": "stdout",
          "text": [
            "[[29.6827553]]\n"
          ]
        }
      ]
    }
  ]
}